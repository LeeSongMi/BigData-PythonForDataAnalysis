{
 "cells": [
  {
   "cell_type": "markdown",
   "metadata": {},
   "source": [
    "# BaekJoon 1094번 막대기\n",
    "지민이는 길이가 64cm인 막대를 가지고 있다. \n",
    "\n",
    "어느 날, 그는 길이가 Xcm인 막대가 가지고 싶어졌다. \n",
    "\n",
    "지민이가 가지고 있는 막대의 길이를 모두 더한다. 처음에는 64cm 막대 하나만 가지고 있다. 이때, 합이 X보다 크다면, 아래와 같은 과정을 반복한다.\n",
    "\n",
    "가지고 있는 막대 중 길이가 가장 짧은 것을 절반으로 자른다.\n",
    "\n",
    "만약, 위에서 자른 막대의 절반 중 하나를 버리고 남아있는 막대의 길이의 합이 X보다 크거나 같다면, 위에서 자른 막대의 절반 중 하나를 버린다.\n",
    "\n",
    "이제, 남아있는 모든 막대를 풀로 붙여서 Xcm를 만든다."
   ]
  },
  {
   "cell_type": "code",
   "execution_count": 30,
   "metadata": {},
   "outputs": [
    {
     "name": "stdout",
     "output_type": "stream",
     "text": [
      "48\n"
     ]
    }
   ],
   "source": [
    "x = int(input())   # 막대 길이 X 입력"
   ]
  },
  {
   "cell_type": "code",
   "execution_count": 40,
   "metadata": {},
   "outputs": [],
   "source": [
    "mak = []         # 소유한 막대들을 저장하는 mak 리스트\n",
    "mak.append(64)  # 초기 보유중인 64cm 막대 추가\n",
    "Sum = 64        # 총 막대의 길이를 저장한 값"
   ]
  },
  {
   "cell_type": "code",
   "execution_count": 41,
   "metadata": {
    "scrolled": true
   },
   "outputs": [
    {
     "data": {
      "text/plain": [
       "[64]"
      ]
     },
     "execution_count": 41,
     "metadata": {},
     "output_type": "execute_result"
    }
   ],
   "source": [
    "mak"
   ]
  },
  {
   "cell_type": "code",
   "execution_count": 37,
   "metadata": {},
   "outputs": [],
   "source": [
    "while Sum != x:                          # 총길이가 원하는 길이(x)와 다를시 반복\n",
    "    mak.sort()                           # 막대길이 정렬\n",
    "    a = mak[0]/2                         # 막대기를 반으로 나눈 값 a\n",
    "    if (Sum - a) >= x:                   # 총길이에서 반으로 나눈 길이를 버린 값이 x 보다 클 경우\n",
    "        mak[0] = a; Sum -= a             # mak[0]값은 반으로 나눈 막대길이로 바꿔줌 총길이에서 나눈 막대길이를 빼줌\n",
    "    else: mak[0] = a; mak.append(a)      # 총길이에서 반으로 나눈 길이를 버린 값이 x 보다 작을 시 막대 리스트에 a 추가"
   ]
  },
  {
   "cell_type": "code",
   "execution_count": 38,
   "metadata": {},
   "outputs": [
    {
     "name": "stdout",
     "output_type": "stream",
     "text": [
      "2\n"
     ]
    }
   ],
   "source": [
    "print(len(mak))   #막대의 개수 출력"
   ]
  },
  {
   "cell_type": "code",
   "execution_count": null,
   "metadata": {},
   "outputs": [],
   "source": []
  }
 ],
 "metadata": {
  "kernelspec": {
   "display_name": "Python 3",
   "language": "python",
   "name": "python3"
  },
  "language_info": {
   "codemirror_mode": {
    "name": "ipython",
    "version": 3
   },
   "file_extension": ".py",
   "mimetype": "text/x-python",
   "name": "python",
   "nbconvert_exporter": "python",
   "pygments_lexer": "ipython3",
   "version": "3.7.6"
  }
 },
 "nbformat": 4,
 "nbformat_minor": 4
}
