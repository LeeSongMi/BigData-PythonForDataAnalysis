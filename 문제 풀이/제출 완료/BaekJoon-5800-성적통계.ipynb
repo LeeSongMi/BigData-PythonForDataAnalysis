{
 "cells": [
  {
   "cell_type": "markdown",
   "metadata": {},
   "source": [
    "# BaekJoon 5800번 성적 통계\n",
    "한상덕은 이번에 중덕 고등학교에 새로 부임한 교장 선생님이다. \n",
    "교장 선생님으로서 첫 번째 일은 각 반의 수학 시험 성적의 통계를 내는 일이다.\n",
    "\n",
    "중덕 고등학교 각 반의 학생들의 수학 시험 성적이 주어졌을 때, \n",
    "최대 점수, 최소 점수, 점수 차이를 구하는 프로그램을 작성하시오.\n",
    "\n",
    "#### 첫째 줄에 중덕 고등학교에 있는 반의 수 K (1 ≤ K ≤ 100)가 주어진다. 다음 K개 줄에는 각 반의 학생수 N (2 ≤ N ≤ 50)과 각 학생의 수학 성적이 주어진다. 시험 성적은 0보다 크거나 같고, 100보다 작거나 같은 정수이고, 공백으로 나누어져 있다. "
   ]
  },
  {
   "cell_type": "code",
   "execution_count": 220,
   "metadata": {},
   "outputs": [
    {
     "name": "stdout",
     "output_type": "stream",
     "text": [
      "2\n"
     ]
    }
   ],
   "source": [
    "k = int(input())"
   ]
  },
  {
   "cell_type": "code",
   "execution_count": 174,
   "metadata": {},
   "outputs": [],
   "source": [
    "clas= []"
   ]
  },
  {
   "cell_type": "code",
   "execution_count": 221,
   "metadata": {
    "scrolled": true
   },
   "outputs": [
    {
     "name": "stdout",
     "output_type": "stream",
     "text": [
      "5 30 25 76 23 78\n",
      "6 25 50 70 99 70 90\n"
     ]
    }
   ],
   "source": [
    "for x in range(k):\n",
    "    clas= []\n",
    "    clas.append(input().split())\n",
    "    clas[x] = [int(i) for i in clas[x]]"
   ]
  },
  {
   "cell_type": "code",
   "execution_count": 222,
   "metadata": {},
   "outputs": [
    {
     "data": {
      "text/plain": [
       "[[23, 25, 30, 76, 78],\n",
       " [25, 50, 70, 70, 90, 99],\n",
       " ['5', '30', '25', '76', '23', '78'],\n",
       " ['6', '25', '50', '70', '99', '70', '90']]"
      ]
     },
     "execution_count": 222,
     "metadata": {},
     "output_type": "execute_result"
    }
   ],
   "source": [
    "clas"
   ]
  },
  {
   "cell_type": "code",
   "execution_count": 176,
   "metadata": {},
   "outputs": [
    {
     "name": "stdout",
     "output_type": "stream",
     "text": [
      "Class 1\n",
      "Max 78, Min 23, Largest gap 46\n",
      "Class 2\n",
      "Max 99, Min 25, Largest gap 25\n"
     ]
    }
   ],
   "source": [
    "for x in range(k):\n",
    "    studentNum = clas[x].pop(0)   # 학생수 저장 및 리스트에서 삭제\n",
    "    Max = max(clas[x]); Min = min(clas[x]); LargestGap = 0 # 최대값, 최소값 구하기, 점수차이 초기화\n",
    "    clas[x].sort()  # 학생 성적 내림차순 정렬\n",
    "    # 점수 차이 구하기\n",
    "    for y in range(studentNum):\n",
    "        if y != (studentNum - 1):  # 제일 마지막 성적 값이 아닐 시 실행\n",
    "            gap = abs(clas[x][y]-clas[x][y+1]) # 제일 마지막 성적 값이 들어해올 시 y+1에서 인덱스 크기 에러 발생\n",
    "            if LargestGap == 0 : LargestGap = gap\n",
    "            elif LargestGap < gap:   # LargetGap의 값이 성적 차이 보다 작을 경우 gap 값 저장\n",
    "                LargestGap = gap\n",
    "      \n",
    "    print('Class', x+1)\n",
    "    print('Max', Max, end=', Min ')\n",
    "    print(Min,end=', Largest gap ')\n",
    "    print(LargestGap)"
   ]
  },
  {
   "cell_type": "code",
   "execution_count": null,
   "metadata": {},
   "outputs": [],
   "source": []
  },
  {
   "cell_type": "code",
   "execution_count": 177,
   "metadata": {},
   "outputs": [],
   "source": [
    "import pandas as pd"
   ]
  },
  {
   "cell_type": "code",
   "execution_count": 178,
   "metadata": {},
   "outputs": [
    {
     "name": "stdout",
     "output_type": "stream",
     "text": [
      "2\n"
     ]
    }
   ],
   "source": [
    "k = int(input())"
   ]
  },
  {
   "cell_type": "code",
   "execution_count": 179,
   "metadata": {},
   "outputs": [],
   "source": [
    "clas = []; studentNum = []"
   ]
  },
  {
   "cell_type": "code",
   "execution_count": 180,
   "metadata": {},
   "outputs": [
    {
     "name": "stdout",
     "output_type": "stream",
     "text": [
      "5 30 25 76 23 78\n",
      "6 25 50 70 99 70 90\n"
     ]
    }
   ],
   "source": [
    "for x in range(k):\n",
    "    clas.append(input().split())\n",
    "    clas[x] = [int(i) for i in clas[x]]\n",
    "    studentNum.append(clas[x].pop(0))"
   ]
  },
  {
   "cell_type": "code",
   "execution_count": 203,
   "metadata": {},
   "outputs": [],
   "source": [
    "for x in range(k):\n",
    "    Class = pd.DataFrame([clas, studentNum], index =['성적리스트', '학생수'])"
   ]
  },
  {
   "cell_type": "code",
   "execution_count": 204,
   "metadata": {},
   "outputs": [
    {
     "data": {
      "text/html": [
       "<div>\n",
       "<style scoped>\n",
       "    .dataframe tbody tr th:only-of-type {\n",
       "        vertical-align: middle;\n",
       "    }\n",
       "\n",
       "    .dataframe tbody tr th {\n",
       "        vertical-align: top;\n",
       "    }\n",
       "\n",
       "    .dataframe thead th {\n",
       "        text-align: right;\n",
       "    }\n",
       "</style>\n",
       "<table border=\"1\" class=\"dataframe\">\n",
       "  <thead>\n",
       "    <tr style=\"text-align: right;\">\n",
       "      <th></th>\n",
       "      <th>0</th>\n",
       "      <th>1</th>\n",
       "    </tr>\n",
       "  </thead>\n",
       "  <tbody>\n",
       "    <tr>\n",
       "      <th>성적리스트</th>\n",
       "      <td>[30, 25, 76, 23, 78]</td>\n",
       "      <td>[25, 50, 70, 99, 70, 90]</td>\n",
       "    </tr>\n",
       "    <tr>\n",
       "      <th>학생수</th>\n",
       "      <td>5</td>\n",
       "      <td>6</td>\n",
       "    </tr>\n",
       "  </tbody>\n",
       "</table>\n",
       "</div>"
      ],
      "text/plain": [
       "                          0                         1\n",
       "성적리스트  [30, 25, 76, 23, 78]  [25, 50, 70, 99, 70, 90]\n",
       "학생수                       5                         6"
      ]
     },
     "execution_count": 204,
     "metadata": {},
     "output_type": "execute_result"
    }
   ],
   "source": [
    "Class"
   ]
  },
  {
   "cell_type": "code",
   "execution_count": 212,
   "metadata": {},
   "outputs": [
    {
     "data": {
      "text/plain": [
       "성적리스트    [23, 25, 30, 76, 78]\n",
       "학생수                         5\n",
       "Name: 0, dtype: object"
      ]
     },
     "execution_count": 212,
     "metadata": {},
     "output_type": "execute_result"
    }
   ],
   "source": [
    "Class[0]"
   ]
  },
  {
   "cell_type": "code",
   "execution_count": 219,
   "metadata": {},
   "outputs": [
    {
     "name": "stdout",
     "output_type": "stream",
     "text": [
      "Class 1\n",
      "Max 78, Min 23, Largest gap 46\n",
      "Class 2\n",
      "Max 99, Min 25, Largest gap 25\n"
     ]
    }
   ],
   "source": [
    "for x in range(k):\n",
    "    Max = max(Class[x]['성적리스트']); Min = min(Class[x]['성적리스트'])\n",
    "    LargestGap = 0 #  점수차이 초기화\n",
    "    Class[x]['성적리스트'].sort()\n",
    "    for y in range(Class[x]['학생수']):\n",
    "        if y != (Class[x]['학생수'] - 1):  \n",
    "            gap = abs(Class[x]['성적리스트'][y]- Class[x]['성적리스트'][y+1])\n",
    "            if LargestGap == 0 : LargestGap = gap\n",
    "            elif LargestGap < gap:  \n",
    "                LargestGap = gap\n",
    "        \n",
    "    print('Class', x+1)\n",
    "    print('Max', Max, end=', Min ')\n",
    "    print(Min,end=', Largest gap ')\n",
    "    print(LargestGap)"
   ]
  },
  {
   "cell_type": "code",
   "execution_count": null,
   "metadata": {},
   "outputs": [],
   "source": []
  }
 ],
 "metadata": {
  "kernelspec": {
   "display_name": "Python 3",
   "language": "python",
   "name": "python3"
  },
  "language_info": {
   "codemirror_mode": {
    "name": "ipython",
    "version": 3
   },
   "file_extension": ".py",
   "mimetype": "text/x-python",
   "name": "python",
   "nbconvert_exporter": "python",
   "pygments_lexer": "ipython3",
   "version": "3.7.6"
  }
 },
 "nbformat": 4,
 "nbformat_minor": 4
}
