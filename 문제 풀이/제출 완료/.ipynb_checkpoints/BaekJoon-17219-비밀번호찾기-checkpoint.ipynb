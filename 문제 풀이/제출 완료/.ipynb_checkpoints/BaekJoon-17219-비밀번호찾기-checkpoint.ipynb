{
 "cells": [
  {
   "cell_type": "markdown",
   "metadata": {},
   "source": [
    "# BaekJoon 17219번 비밀번호 찾기\n",
    "\n",
    "첫째 줄에 저장된 사이트 주소의 수 N(1 ≤ N ≤ 100,000)과 비밀번호를 찾으려는 사이트 주소의 수 M(1 ≤ M ≤ 100,000)이 주어진다.\n",
    "\n",
    "두번째 줄부터 N개의 줄에 걸쳐 각 줄에 사이트 주소와 비밀번호가 공백으로 구분되어 주어진다. 사이트 주소는 알파벳 소문자, 알파벳 대문자, 대시('-'), 마침표('.')로 이루어져 있고, 중복되지 않는다. 비밀번호는 알파벳 대문자로만 이루어져 있다. 모두 길이는 최대 20자이다.\n",
    "\n",
    "N+2번째 줄부터 M개의 줄에 걸쳐 비밀번호를 찾으려는 사이트 주소가 한줄에 하나씩 입력된다. 이때, 반드시 이미 저장된 사이트 주소가 입력된다."
   ]
  },
  {
   "cell_type": "code",
   "execution_count": 13,
   "metadata": {},
   "outputs": [],
   "source": [
    "import pandas as pd"
   ]
  },
  {
   "cell_type": "code",
   "execution_count": 1,
   "metadata": {},
   "outputs": [
    {
     "name": "stdout",
     "output_type": "stream",
     "text": [
      "8\n",
      "4\n"
     ]
    }
   ],
   "source": [
    "n = int(input())  # 사이트 주소의 수\n",
    "m = int(input())  # 비밀번호를 찾으려는 사이트 주소의 수"
   ]
  },
  {
   "cell_type": "code",
   "execution_count": 2,
   "metadata": {},
   "outputs": [],
   "source": [
    "site = []; password = []; data = []"
   ]
  },
  {
   "cell_type": "code",
   "execution_count": 3,
   "metadata": {},
   "outputs": [
    {
     "name": "stdout",
     "output_type": "stream",
     "text": [
      "noj.am IU\n",
      "acmicpc.net UAENA\n",
      "startlink.io THEKINGOD\n",
      "google.com ZEZE\n",
      "nate.com VOICEMAIL\n",
      "naver.com REDQUEEN\n",
      "daum.net MODERNTIMES\n",
      "utube.com BLACKOUT\n"
     ]
    }
   ],
   "source": [
    "for i in range(n):\n",
    "    data.append(input().split())\n",
    "    site.append(data[i][0])\n",
    "    password.append(data[i][1])"
   ]
  },
  {
   "cell_type": "code",
   "execution_count": 10,
   "metadata": {},
   "outputs": [
    {
     "name": "stdout",
     "output_type": "stream",
     "text": [
      "daum.net\n",
      "MODERNTIMES\n",
      "acmicpc.net\n",
      "UAENA\n",
      "noj.am\n",
      "IU\n",
      "google.com\n",
      "ZEZE\n"
     ]
    }
   ],
   "source": [
    "for i in range(m):\n",
    "    want = input()\n",
    "    for x in data:\n",
    "        if want == x[0]: print(x[1])"
   ]
  },
  {
   "cell_type": "raw",
   "metadata": {},
   "source": [
    "pandas를 이용하여 해결"
   ]
  },
  {
   "cell_type": "raw",
   "metadata": {},
   "source": []
  },
  {
   "cell_type": "code",
   "execution_count": 48,
   "metadata": {},
   "outputs": [],
   "source": [
    "database = pd.Series([site, password], index =['사이트', '패스워드'])"
   ]
  },
  {
   "cell_type": "code",
   "execution_count": 49,
   "metadata": {},
   "outputs": [
    {
     "data": {
      "text/plain": [
       "사이트     [noj.am, acmicpc.net, startlink.io, google.com...\n",
       "패스워드    [IU, UAENA, THEKINGOD, ZEZE, VOICEMAIL, REDQUE...\n",
       "dtype: object"
      ]
     },
     "execution_count": 49,
     "metadata": {},
     "output_type": "execute_result"
    }
   ],
   "source": [
    "database"
   ]
  },
  {
   "cell_type": "code",
   "execution_count": 55,
   "metadata": {},
   "outputs": [
    {
     "name": "stdout",
     "output_type": "stream",
     "text": [
      "noj.am\n",
      "IU\n"
     ]
    }
   ],
   "source": [
    "for i in range(m):\n",
    "    want = input()\n",
    "    for x in range(n):\n",
    "        if want == database['사이트'][x]: print(database['패스워드'][x])"
   ]
  },
  {
   "cell_type": "code",
   "execution_count": null,
   "metadata": {},
   "outputs": [],
   "source": []
  }
 ],
 "metadata": {
  "kernelspec": {
   "display_name": "Python 3",
   "language": "python",
   "name": "python3"
  },
  "language_info": {
   "codemirror_mode": {
    "name": "ipython",
    "version": 3
   },
   "file_extension": ".py",
   "mimetype": "text/x-python",
   "name": "python",
   "nbconvert_exporter": "python",
   "pygments_lexer": "ipython3",
   "version": "3.7.6"
  }
 },
 "nbformat": 4,
 "nbformat_minor": 4
}
