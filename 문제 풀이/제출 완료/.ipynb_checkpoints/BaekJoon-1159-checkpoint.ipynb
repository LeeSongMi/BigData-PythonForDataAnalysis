{
 "cells": [
  {
   "cell_type": "markdown",
   "metadata": {},
   "source": [
    "# BaekJoon 1159번 농구 경기\n",
    "첫째 줄에 선수의 수 N (1 ≤ N ≤ 150)이 주어진다. \n",
    "다음 N개 줄에는 각 선수의 성이 주어진다. (성은 알파벳 소문자로만 이루어져 있고, 최대 30글자이다)\n",
    "누가 선발인지 기억하기 쉽게 하기 위해 성의 첫 글자가 같은 선수 5명을 선발하려고 한다. \n",
    "만약, 성의 첫 글자가 같은 선수가 5명보다 적다면, 상근이는 내일 있을 친선 경기를 기권하려고 한다."
   ]
  },
  {
   "cell_type": "code",
   "execution_count": 44,
   "metadata": {},
   "outputs": [
    {
     "name": "stdout",
     "output_type": "stream",
     "text": [
      "18\n"
     ]
    }
   ],
   "source": [
    "n = int(input())        # 선수의 수 입력"
   ]
  },
  {
   "cell_type": "code",
   "execution_count": 45,
   "metadata": {},
   "outputs": [
    {
     "name": "stdout",
     "output_type": "stream",
     "text": [
      "babic\n",
      "keksic\n",
      "boric\n",
      "bukic\n",
      "sarmic\n",
      "balic\n",
      "kruzic\n",
      "hrenovkic\n",
      "beslic\n",
      "boksic\n",
      "krafnic\n",
      "pecivic\n",
      "klavirkovic\n",
      "kukumaric\n",
      "sunkic\n",
      "kolacic\n",
      "kovacic\n",
      "prijestolonasljednikovi\n"
     ]
    }
   ],
   "source": [
    "names = [input() for x in range(n)]     # 선수의 성 입력"
   ]
  },
  {
   "cell_type": "code",
   "execution_count": 46,
   "metadata": {},
   "outputs": [],
   "source": [
    "sum = {}      # 사전을 이용하여 알파벳 앞글자와 갯수를 입력 받을 예정"
   ]
  },
  {
   "cell_type": "code",
   "execution_count": 157,
   "metadata": {},
   "outputs": [],
   "source": [
    "for x in range(n):\n",
    "    key = names[x][0]    # 성의 첫 글자를 key로 저장\n",
    "    if key in sum : sum[key] = sum[key] + 1;  # 사전에 해당 알파벳이 있을 시 그 값을 1 추가해줌\n",
    "    else: sum[key] = 1;   # 사전에 해당 알파벳이 없을 시, 그 알파벳을 키로 값을 1로 가지도록 설정\n",
    "    "
   ]
  },
  {
   "cell_type": "code",
   "execution_count": 158,
   "metadata": {},
   "outputs": [],
   "source": [
    "a = [x for x in sum if sum[x]>= 5]  # 키의 값이 5보다 같거나 크면 A리스트에 넣어라\n",
    "a.sort()   # A리스트 정렬\n",
    "if len(a) == 0: a.append(\"PREDAJA\")   # 리스트에 아무것도 안들어있을시 항복 문구를 넣음"
   ]
  },
  {
   "cell_type": "code",
   "execution_count": 159,
   "metadata": {},
   "outputs": [
    {
     "name": "stdout",
     "output_type": "stream",
     "text": [
      "bk"
     ]
    }
   ],
   "source": [
    "for x in a: print(x, end=\"\")  # 공백없이 리스트 값 출력"
   ]
  },
  {
   "cell_type": "code",
   "execution_count": null,
   "metadata": {},
   "outputs": [],
   "source": [
    " "
   ]
  },
  {
   "cell_type": "code",
   "execution_count": null,
   "metadata": {},
   "outputs": [],
   "source": [
    "# pandas 이용해서 문제 해결 단 import해야하기 때문인지 이 코드는 런타임 에러가 남"
   ]
  },
  {
   "cell_type": "code",
   "execution_count": 160,
   "metadata": {},
   "outputs": [],
   "source": [
    "import pandas as pd"
   ]
  },
  {
   "cell_type": "code",
   "execution_count": 169,
   "metadata": {},
   "outputs": [
    {
     "name": "stderr",
     "output_type": "stream",
     "text": [
      "D:\\Download\\anaconda3\\lib\\site-packages\\ipykernel_launcher.py:1: DeprecationWarning: The default dtype for empty Series will be 'object' instead of 'float64' in a future version. Specify a dtype explicitly to silence this warning.\n",
      "  \"\"\"Entry point for launching an IPython kernel.\n"
     ]
    }
   ],
   "source": [
    "names2 = pd.Series()"
   ]
  },
  {
   "cell_type": "code",
   "execution_count": null,
   "metadata": {},
   "outputs": [],
   "source": [
    "# 사전 대신 pandas를 이용하여 알파벳 첫글자를 색인으로, 알파벳이 나온 횟수를 값으로 지정\n",
    "for x in range(n):\n",
    "    key = names[x][0]    \n",
    "    if key in names2: names2[key] = names2[key] + 1;  \n",
    "    else: names2[key] = 1;   \n",
    "    "
   ]
  },
  {
   "cell_type": "code",
   "execution_count": 189,
   "metadata": {},
   "outputs": [
    {
     "data": {
      "text/plain": [
       "b    6\n",
       "k    7\n",
       "s    2\n",
       "h    1\n",
       "p    2\n",
       "dtype: int64"
      ]
     },
     "execution_count": 189,
     "metadata": {},
     "output_type": "execute_result"
    }
   ],
   "source": [
    "names2"
   ]
  },
  {
   "cell_type": "code",
   "execution_count": 190,
   "metadata": {},
   "outputs": [],
   "source": [
    "result = names2[names2.values>= 5].index    # 값이 5가 넘는 것들의 색인 값을 result에 저장"
   ]
  },
  {
   "cell_type": "code",
   "execution_count": 184,
   "metadata": {},
   "outputs": [],
   "source": [
    "list(result).sort()    # result정렬"
   ]
  },
  {
   "cell_type": "code",
   "execution_count": 186,
   "metadata": {},
   "outputs": [],
   "source": [
    "if len(result) == 0: a.append(\"PREDAJA\")"
   ]
  },
  {
   "cell_type": "code",
   "execution_count": 185,
   "metadata": {},
   "outputs": [
    {
     "name": "stdout",
     "output_type": "stream",
     "text": [
      "bk"
     ]
    }
   ],
   "source": [
    "for x in result: print(x, end=\"\")"
   ]
  },
  {
   "cell_type": "code",
   "execution_count": null,
   "metadata": {},
   "outputs": [],
   "source": []
  }
 ],
 "metadata": {
  "kernelspec": {
   "display_name": "Python 3",
   "language": "python",
   "name": "python3"
  },
  "language_info": {
   "codemirror_mode": {
    "name": "ipython",
    "version": 3
   },
   "file_extension": ".py",
   "mimetype": "text/x-python",
   "name": "python",
   "nbconvert_exporter": "python",
   "pygments_lexer": "ipython3",
   "version": "3.7.6"
  }
 },
 "nbformat": 4,
 "nbformat_minor": 4
}
