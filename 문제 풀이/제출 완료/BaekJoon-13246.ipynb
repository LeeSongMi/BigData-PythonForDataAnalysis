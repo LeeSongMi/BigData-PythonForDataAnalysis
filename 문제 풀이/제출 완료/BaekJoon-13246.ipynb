{
 "cells": [
  {
   "cell_type": "markdown",
   "metadata": {},
   "source": [
    "# BaekJoon 13246번 행렬 제곱의 합\n",
    "크기가 N*N인 행렬 A가 주어진다. \n",
    "이때, A의 1제곱부터 A의 B제곱까지 더한 행렬을 구하는 프로그램을 작성하시오. \n",
    "즉, S = A1 + A2 + ... + AB를 구해야 한다.\n",
    "\n",
    "수가 매우 커질 수 있으니, S의 각 원소를 1,000으로 나눈 나머지를 출력한다."
   ]
  },
  {
   "cell_type": "code",
   "execution_count": 318,
   "metadata": {},
   "outputs": [],
   "source": [
    "import numpy as np"
   ]
  },
  {
   "cell_type": "code",
   "execution_count": 319,
   "metadata": {},
   "outputs": [
    {
     "name": "stdout",
     "output_type": "stream",
     "text": [
      "2\n",
      "5\n"
     ]
    }
   ],
   "source": [
    "n = int(input())\n",
    "b = int(input())"
   ]
  },
  {
   "cell_type": "code",
   "execution_count": 320,
   "metadata": {},
   "outputs": [],
   "source": [
    "a = np.arange(n*n)"
   ]
  },
  {
   "cell_type": "code",
   "execution_count": 321,
   "metadata": {},
   "outputs": [
    {
     "data": {
      "text/plain": [
       "array([0, 1, 2, 3])"
      ]
     },
     "execution_count": 321,
     "metadata": {},
     "output_type": "execute_result"
    }
   ],
   "source": [
    "a"
   ]
  },
  {
   "cell_type": "code",
   "execution_count": null,
   "metadata": {},
   "outputs": [],
   "source": []
  },
  {
   "cell_type": "code",
   "execution_count": 322,
   "metadata": {},
   "outputs": [
    {
     "name": "stdout",
     "output_type": "stream",
     "text": [
      "1\n",
      "2\n",
      "3\n",
      "4\n"
     ]
    }
   ],
   "source": [
    "for x in a:\n",
    "    a[x] = int(input())"
   ]
  },
  {
   "cell_type": "code",
   "execution_count": 380,
   "metadata": {},
   "outputs": [],
   "source": [
    "sum = np.zeros(n*n).reshape(n,n); c = np.zeros(n*n).reshape(n,n)"
   ]
  },
  {
   "cell_type": "code",
   "execution_count": 381,
   "metadata": {},
   "outputs": [],
   "source": [
    "a = a.reshape(n,n)"
   ]
  },
  {
   "cell_type": "code",
   "execution_count": 382,
   "metadata": {},
   "outputs": [
    {
     "data": {
      "text/plain": [
       "array([[0., 0.],\n",
       "       [0., 0.]])"
      ]
     },
     "execution_count": 382,
     "metadata": {},
     "output_type": "execute_result"
    }
   ],
   "source": [
    "sum"
   ]
  },
  {
   "cell_type": "code",
   "execution_count": 383,
   "metadata": {},
   "outputs": [
    {
     "name": "stdout",
     "output_type": "stream",
     "text": [
      "c=\n",
      "[[10 14]\n",
      " [14 20]]\n",
      "s=\n",
      "[[10. 14.]\n",
      " [14. 20.]]\n",
      "c=\n",
      "[[296 420]\n",
      " [420 596]]\n",
      "s=\n",
      "[[306. 434.]\n",
      " [434. 616.]]\n",
      "c=\n",
      "[[264016 374640]\n",
      " [374640 531616]]\n",
      "s=\n",
      "[[264322. 375074.]\n",
      " [375074. 532232.]]\n",
      "c=\n",
      "[[-393819648 1722829056]\n",
      " [1722829056 2063906048]]\n",
      "s=\n",
      "[[-3.93555326e+08  1.72320413e+09]\n",
      " [ 1.72320413e+09  2.06443828e+09]]\n",
      "c=\n",
      "[[-1942683648   389480448]\n",
      " [  389480448 -1664483328]]\n",
      "s=\n",
      "[[-2.33623897e+09  2.11268458e+09]\n",
      " [ 2.11268458e+09  3.99954952e+08]]\n"
     ]
    }
   ],
   "source": [
    "# 행렬의 제곱을 구하는 방법을 모르겠다...8ㅅ8 \n",
    "for x in range(b):\n",
    "    for y in range(x+1):\n",
    "        if y == 0: c = np.matmul(a.T,a)\n",
    "        else: c = np.matmul(c.T, c)\n",
    "    print('c=');print(c)\n",
    "    sum += c\n",
    "    print('s=');print(sum)\n",
    "    "
   ]
  },
  {
   "cell_type": "code",
   "execution_count": 384,
   "metadata": {},
   "outputs": [
    {
     "data": {
      "text/plain": [
       "array([[-2.33623897e+09,  2.11268458e+09],\n",
       "       [ 2.11268458e+09,  3.99954952e+08]])"
      ]
     },
     "execution_count": 384,
     "metadata": {},
     "output_type": "execute_result"
    }
   ],
   "source": [
    "sum"
   ]
  },
  {
   "cell_type": "code",
   "execution_count": 389,
   "metadata": {},
   "outputs": [],
   "source": [
    "sum = sum%1000"
   ]
  },
  {
   "cell_type": "code",
   "execution_count": null,
   "metadata": {},
   "outputs": [],
   "source": []
  }
 ],
 "metadata": {
  "kernelspec": {
   "display_name": "Python 3",
   "language": "python",
   "name": "python3"
  },
  "language_info": {
   "codemirror_mode": {
    "name": "ipython",
    "version": 3
   },
   "file_extension": ".py",
   "mimetype": "text/x-python",
   "name": "python",
   "nbconvert_exporter": "python",
   "pygments_lexer": "ipython3",
   "version": "3.7.6"
  }
 },
 "nbformat": 4,
 "nbformat_minor": 4
}
