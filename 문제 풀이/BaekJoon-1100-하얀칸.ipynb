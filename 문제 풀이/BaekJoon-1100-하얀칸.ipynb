{
 "cells": [
  {
   "cell_type": "markdown",
   "metadata": {},
   "source": [
    "# BaekJoon 1100 하얀 칸\n",
    "\n",
    "체스판은 8*8크기이고, 검정 칸과 하얀 칸이 번갈아가면서 색칠되어 있다. \n",
    "\n",
    "가장 왼쪽 위칸 (0,0)은 하얀색이다. \n",
    "\n",
    "체스판의 상태가 주어졌을 때, 하얀 칸 위에 말이 몇 개 있는지 출력하는 프로그램을 작성하시오."
   ]
  },
  {
   "cell_type": "code",
   "execution_count": 26,
   "metadata": {},
   "outputs": [
    {
     "name": "stdout",
     "output_type": "stream",
     "text": [
      ".F.F...F\n",
      "F...F.F.\n",
      "...F.F.F\n",
      "F.F...F.\n",
      ".F...F..\n",
      "F...F.F.\n",
      ".F.F.F.F\n",
      "..FF..F.\n"
     ]
    }
   ],
   "source": [
    "# 체스판의 상태 입력\n",
    "x = [input() for x in range(8)]"
   ]
  },
  {
   "cell_type": "code",
   "execution_count": 27,
   "metadata": {},
   "outputs": [],
   "source": [
    "count = 0 # 하얀칸 위에 있는 말의 수"
   ]
  },
  {
   "cell_type": "code",
   "execution_count": 28,
   "metadata": {},
   "outputs": [],
   "source": [
    "# 위치 값(x,y)의 합이 짝수 일 경우 하얀 칸, 홀수 일 경우 검은 칸\n",
    "for i in range(8):\n",
    "    for j in range(8):\n",
    "        if (i+j)% 2 == 0:      # 합이 짝수일 시, 즉, 하얀 칸일시\n",
    "            if x[i][j] == 'F': # 그 위치에 말이 있으면\n",
    "                count +=1      # 카운트값을 올려라"
   ]
  },
  {
   "cell_type": "code",
   "execution_count": 29,
   "metadata": {},
   "outputs": [
    {
     "data": {
      "text/plain": [
       "1"
      ]
     },
     "execution_count": 29,
     "metadata": {},
     "output_type": "execute_result"
    }
   ],
   "source": [
    "print(count)"
   ]
  },
  {
   "cell_type": "code",
   "execution_count": null,
   "metadata": {},
   "outputs": [],
   "source": []
  }
 ],
 "metadata": {
  "kernelspec": {
   "display_name": "Python 3",
   "language": "python",
   "name": "python3"
  },
  "language_info": {
   "codemirror_mode": {
    "name": "ipython",
    "version": 3
   },
   "file_extension": ".py",
   "mimetype": "text/x-python",
   "name": "python",
   "nbconvert_exporter": "python",
   "pygments_lexer": "ipython3",
   "version": "3.7.6"
  }
 },
 "nbformat": 4,
 "nbformat_minor": 4
}
