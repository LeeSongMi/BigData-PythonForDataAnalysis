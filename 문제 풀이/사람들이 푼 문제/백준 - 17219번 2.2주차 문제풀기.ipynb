{
 "cells": [
  {
   "cell_type": "code",
   "execution_count": 1,
   "metadata": {},
   "outputs": [],
   "source": [
    "import pandas as pd\n",
    "import numpy as np"
   ]
  },
  {
   "cell_type": "code",
   "execution_count": 2,
   "metadata": {},
   "outputs": [],
   "source": [
    "sites = ['noj.am', 'naver.com', 'nate.com', 'yahoo.co.kr', 'google.com', 'waagle.ac.kr', 'daum.net', 'changwon.ac.kr', 'cwnu.ac.kr', 'youtube.com', 'microsoft.com', 'zum.com', 'teams.com', 'startlink.io', 'dreamwiz.com', 'dhlottery.co.kr', 'yes.no.kr', 'nexon.com', 'ncsoft.com', 'netmable.com', 'jinha.co.kr', 'meets.dot.com']"
   ]
  },
  {
   "cell_type": "code",
   "execution_count": 10,
   "metadata": {},
   "outputs": [
    {
     "name": "stdout",
     "output_type": "stream",
     "text": [
      "5 3\n"
     ]
    }
   ],
   "source": [
    "n, x = tuple(map(lambda a: int(a), input().split()))"
   ]
  },
  {
   "cell_type": "code",
   "execution_count": 30,
   "metadata": {},
   "outputs": [],
   "source": [
    "import random\n",
    "upw = []\n",
    "for a in range(n):\n",
    "    tmp = ''\n",
    "    num = random.randrange(2,20)\n",
    "    for i in range(num):\n",
    "        nu = random.randrange(97, 123) #아스키코드 a-z 범위\n",
    "        nu = chr(nu)\n",
    "        tmp += nu\n",
    "    upw.append(tmp)"
   ]
  },
  {
   "cell_type": "code",
   "execution_count": 32,
   "metadata": {},
   "outputs": [],
   "source": [
    "pwv = [a.upper() for a in upw]"
   ]
  },
  {
   "cell_type": "code",
   "execution_count": 34,
   "metadata": {},
   "outputs": [],
   "source": [
    "pw = pd.Series(pwv, index=sites[:n])"
   ]
  },
  {
   "cell_type": "code",
   "execution_count": 35,
   "metadata": {},
   "outputs": [
    {
     "data": {
      "text/plain": [
       "noj.am          ABMQKZTSWKIAZXR\n",
       "naver.com                    CN\n",
       "nate.com       QVSMBUERVPOBADIJ\n",
       "yahoo.co.kr             ZWLVECB\n",
       "google.com            DPZIWKPPD\n",
       "dtype: object"
      ]
     },
     "execution_count": 35,
     "metadata": {},
     "output_type": "execute_result"
    }
   ],
   "source": [
    "pw"
   ]
  },
  {
   "cell_type": "code",
   "execution_count": 37,
   "metadata": {},
   "outputs": [
    {
     "name": "stdout",
     "output_type": "stream",
     "text": [
      "google.com\n",
      "nate.com\n",
      "naver.com\n"
     ]
    }
   ],
   "source": [
    "findsite = []\n",
    "for i in range(x):\n",
    "    a = input('')\n",
    "    findsite.append(a)"
   ]
  },
  {
   "cell_type": "code",
   "execution_count": 45,
   "metadata": {},
   "outputs": [
    {
     "name": "stdout",
     "output_type": "stream",
     "text": [
      "DPZIWKPPD\n",
      "QVSMBUERVPOBADIJ\n",
      "CN\n"
     ]
    }
   ],
   "source": [
    "for i in range(len(findsite)):\n",
    "    print(pw[findsite[i]])"
   ]
  },
  {
   "cell_type": "code",
   "execution_count": null,
   "metadata": {},
   "outputs": [],
   "source": []
  }
 ],
 "metadata": {
  "kernelspec": {
   "display_name": "Python 3",
   "language": "python",
   "name": "python3"
  },
  "language_info": {
   "codemirror_mode": {
    "name": "ipython",
    "version": 3
   },
   "file_extension": ".py",
   "mimetype": "text/x-python",
   "name": "python",
   "nbconvert_exporter": "python",
   "pygments_lexer": "ipython3",
   "version": "3.7.6"
  }
 },
 "nbformat": 4,
 "nbformat_minor": 2
}
