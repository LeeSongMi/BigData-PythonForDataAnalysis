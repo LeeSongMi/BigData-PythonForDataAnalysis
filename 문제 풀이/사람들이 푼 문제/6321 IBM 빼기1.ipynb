{
 "cells": [
  {
   "cell_type": "raw",
   "metadata": {},
   "source": [
    "첫째 줄에 컴퓨터의 개수 n이 주어진다. 다음 줄부터 n개의 줄에는 컴퓨터의 이름이 주어진다. 컴퓨터의 이름은 최대 50글자이며, 알파벳 대문자로만 이루어져 있다."
   ]
  },
  {
   "cell_type": "raw",
   "metadata": {},
   "source": [
    "입력으로 주어진 컴퓨터 이름에 대해서, 한 줄에 하나씩 각 글자를 알파벳 다음 순서로 써서 출력한다. 각각의 컴퓨터 이름 사이에는 빈 줄을 하나씩 출력한다.\n",
    "\n",
    "알파벳 Z의 다음 순서는 A이다."
   ]
  },
  {
   "cell_type": "code",
   "execution_count": 1,
   "metadata": {},
   "outputs": [],
   "source": [
    "strings = []"
   ]
  },
  {
   "cell_type": "code",
   "execution_count": 2,
   "metadata": {},
   "outputs": [
    {
     "name": "stdout",
     "output_type": "stream",
     "text": [
      "컴퓨터의 개수:3\n"
     ]
    }
   ],
   "source": [
    "num = input('컴퓨터의 개수:')"
   ]
  },
  {
   "cell_type": "code",
   "execution_count": 3,
   "metadata": {},
   "outputs": [],
   "source": [
    "num=int(num)"
   ]
  },
  {
   "cell_type": "code",
   "execution_count": 4,
   "metadata": {},
   "outputs": [
    {
     "name": "stdout",
     "output_type": "stream",
     "text": [
      "컴퓨터의 이름을 입력하시오: ASDNJK\n",
      "컴퓨터의 이름을 입력하시오: anfkl\n",
      "컴퓨터의 이름을 입력하시오: qwomz\n"
     ]
    }
   ],
   "source": [
    "for x in range(num):\n",
    "    name = input('컴퓨터의 이름을 입력하시오: ')\n",
    "    strings.append(name)"
   ]
  },
  {
   "cell_type": "code",
   "execution_count": 10,
   "metadata": {},
   "outputs": [],
   "source": [
    "result = []\n",
    "\n",
    "for x in strings:\n",
    "    word = ''\n",
    "    for a in range(len(x)):\n",
    "        tmp = ord(x[a]) + 1\n",
    "        if tmp == 123 : tmp = 97\n",
    "        up = chr(tmp).upper()\n",
    "        word += up\n",
    "    result.append(word)"
   ]
  },
  {
   "cell_type": "code",
   "execution_count": 14,
   "metadata": {},
   "outputs": [
    {
     "name": "stdout",
     "output_type": "stream",
     "text": [
      "string # 1\n",
      "BTEOKL\n",
      "string # 2\n",
      "BOGLM\n",
      "string # 3\n",
      "RXPNA\n"
     ]
    }
   ],
   "source": [
    "n = 1\n",
    "for x in result:\n",
    "    print('string #', n)\n",
    "    print(x)\n",
    "    n = n + 1"
   ]
  },
  {
   "cell_type": "code",
   "execution_count": null,
   "metadata": {},
   "outputs": [],
   "source": []
  }
 ],
 "metadata": {
  "kernelspec": {
   "display_name": "Python 3",
   "language": "python",
   "name": "python3"
  },
  "language_info": {
   "codemirror_mode": {
    "name": "ipython",
    "version": 3
   },
   "file_extension": ".py",
   "mimetype": "text/x-python",
   "name": "python",
   "nbconvert_exporter": "python",
   "pygments_lexer": "ipython3",
   "version": "3.7.6"
  }
 },
 "nbformat": 4,
 "nbformat_minor": 4
}
